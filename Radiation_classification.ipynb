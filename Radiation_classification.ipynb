{
 "cells": [
  {
   "cell_type": "code",
   "execution_count": 44,
   "metadata": {},
   "outputs": [],
   "source": [
    "import tensorflow as tf\n",
    "from sklearn.datasets import load_iris\n",
    "from sklearn.model_selection import train_test_split\n",
    "from sklearn.metrics import accuracy_score, confusion_matrix\n",
    "import pandas as pd\n"
   ]
  },
  {
   "cell_type": "code",
   "execution_count": 45,
   "metadata": {},
   "outputs": [
    {
     "name": "stdout",
     "output_type": "stream",
     "text": [
      "   Station        Date  MaxT  MinT  RH1   RH2  Wind  Rain   SSH  Evap  ...  \\\n",
      "0  ICRISAT  01/01/1978  28.5  14.2   68  31.0   5.7   0.0  10.1   4.3  ...   \n",
      "1  ICRISAT  02/01/1978  28.8  16.0   79  33.0   6.4   0.0   9.8   4.8  ...   \n",
      "2  ICRISAT  03/01/1978  29.0  14.5   86  37.0   5.4   0.0   9.1   4.6  ...   \n",
      "3  ICRISAT  04/01/1978  29.0  18.0   89  43.0   7.1   0.0   9.0   4.2  ...   \n",
      "4  ICRISAT  05/01/1978  27.8  17.0   81  47.0  10.5   0.0   8.9   4.3  ...   \n",
      "\n",
      "   Cum_Rain  Unnamed: 15  Unnamed: 16  Unnamed: 17  Unnamed: 18  Unnamed: 19  \\\n",
      "0       0.0          NaN          NaN          NaN          NaN          NaN   \n",
      "1       0.0          NaN          NaN          NaN          NaN          NaN   \n",
      "2       0.0          NaN          NaN          NaN          NaN          NaN   \n",
      "3       0.0          NaN          NaN          NaN          NaN          NaN   \n",
      "4       0.0          NaN          NaN          NaN          NaN          NaN   \n",
      "\n",
      "   Unnamed: 20  Unnamed: 21  Unnamed: 22  Unnamed: 23  \n",
      "0          NaN          NaN          NaN          NaN  \n",
      "1          NaN          NaN          NaN          NaN  \n",
      "2          NaN          NaN          NaN          NaN  \n",
      "3          NaN          NaN          NaN          NaN  \n",
      "4          NaN          NaN          NaN          NaN  \n",
      "\n",
      "[5 rows x 24 columns]\n"
     ]
    }
   ],
   "source": [
    "# Load the dataset\n",
    "df = pd.read_csv('ICRISAT Weather 1978 to 2018.csv')\n",
    "print(df.head())"
   ]
  },
  {
   "cell_type": "code",
   "execution_count": 46,
   "metadata": {},
   "outputs": [
    {
     "name": "stdout",
     "output_type": "stream",
     "text": [
      "<class 'pandas.core.frame.DataFrame'>\n",
      "RangeIndex: 14853 entries, 0 to 14852\n",
      "Data columns (total 24 columns):\n",
      " #   Column       Non-Null Count  Dtype  \n",
      "---  ------       --------------  -----  \n",
      " 0   Station      14853 non-null  object \n",
      " 1   Date         14853 non-null  object \n",
      " 2   MaxT         14853 non-null  float64\n",
      " 3   MinT         14853 non-null  float64\n",
      " 4   RH1          14853 non-null  int64  \n",
      " 5   RH2          14853 non-null  float64\n",
      " 6   Wind         14853 non-null  float64\n",
      " 7   Rain         14853 non-null  float64\n",
      " 8   SSH          14853 non-null  float64\n",
      " 9   Evap         14853 non-null  float64\n",
      " 10  Radiation    14852 non-null  float64\n",
      " 11  FAO56_ET     14853 non-null  float64\n",
      " 12  Lat          14853 non-null  float64\n",
      " 13  Lon          14853 non-null  float64\n",
      " 14  Cum_Rain     14853 non-null  float64\n",
      " 15  Unnamed: 15  0 non-null      float64\n",
      " 16  Unnamed: 16  0 non-null      float64\n",
      " 17  Unnamed: 17  0 non-null      float64\n",
      " 18  Unnamed: 18  0 non-null      float64\n",
      " 19  Unnamed: 19  0 non-null      float64\n",
      " 20  Unnamed: 20  0 non-null      float64\n",
      " 21  Unnamed: 21  0 non-null      float64\n",
      " 22  Unnamed: 22  0 non-null      float64\n",
      " 23  Unnamed: 23  0 non-null      float64\n",
      "dtypes: float64(21), int64(1), object(2)\n",
      "memory usage: 2.7+ MB\n"
     ]
    }
   ],
   "source": [
    "df.info()"
   ]
  },
  {
   "cell_type": "code",
   "execution_count": 47,
   "metadata": {},
   "outputs": [
    {
     "data": {
      "text/plain": [
       "Station            0\n",
       "Date               0\n",
       "MaxT               0\n",
       "MinT               0\n",
       "RH1                0\n",
       "RH2                0\n",
       "Wind               0\n",
       "Rain               0\n",
       "SSH                0\n",
       "Evap               0\n",
       "Radiation          1\n",
       "FAO56_ET           0\n",
       "Lat                0\n",
       "Lon                0\n",
       "Cum_Rain           0\n",
       "Unnamed: 15    14853\n",
       "Unnamed: 16    14853\n",
       "Unnamed: 17    14853\n",
       "Unnamed: 18    14853\n",
       "Unnamed: 19    14853\n",
       "Unnamed: 20    14853\n",
       "Unnamed: 21    14853\n",
       "Unnamed: 22    14853\n",
       "Unnamed: 23    14853\n",
       "dtype: int64"
      ]
     },
     "execution_count": 47,
     "metadata": {},
     "output_type": "execute_result"
    }
   ],
   "source": [
    "df.isnull().sum()"
   ]
  },
  {
   "cell_type": "code",
   "execution_count": 48,
   "metadata": {},
   "outputs": [],
   "source": [
    "df_drop = df.drop(['Date', 'Unnamed: 15', 'Lat', 'Lon', 'Cum_Rain', 'Unnamed: 16', 'Unnamed: 17', 'Unnamed: 18', 'Unnamed: 19', \n",
    "                   'Unnamed: 20', 'Unnamed: 21', 'Unnamed: 22', 'Unnamed: 23', 'FAO56_ET', 'Station' ], axis=1)"
   ]
  },
  {
   "cell_type": "code",
   "execution_count": 49,
   "metadata": {},
   "outputs": [],
   "source": [
    "df_new = df_drop.dropna()"
   ]
  },
  {
   "cell_type": "code",
   "execution_count": 50,
   "metadata": {},
   "outputs": [
    {
     "name": "stdout",
     "output_type": "stream",
     "text": [
      "<class 'pandas.core.frame.DataFrame'>\n",
      "Index: 14852 entries, 0 to 14852\n",
      "Data columns (total 9 columns):\n",
      " #   Column     Non-Null Count  Dtype  \n",
      "---  ------     --------------  -----  \n",
      " 0   MaxT       14852 non-null  float64\n",
      " 1   MinT       14852 non-null  float64\n",
      " 2   RH1        14852 non-null  int64  \n",
      " 3   RH2        14852 non-null  float64\n",
      " 4   Wind       14852 non-null  float64\n",
      " 5   Rain       14852 non-null  float64\n",
      " 6   SSH        14852 non-null  float64\n",
      " 7   Evap       14852 non-null  float64\n",
      " 8   Radiation  14852 non-null  float64\n",
      "dtypes: float64(8), int64(1)\n",
      "memory usage: 1.1 MB\n"
     ]
    }
   ],
   "source": [
    "df_new.info()"
   ]
  },
  {
   "cell_type": "code",
   "execution_count": 51,
   "metadata": {},
   "outputs": [],
   "source": [
    "X = df_new.drop('Radiation', axis=1).values\n",
    "y = df_new['Radiation'].values"
   ]
  },
  {
   "cell_type": "code",
   "execution_count": 52,
   "metadata": {},
   "outputs": [],
   "source": [
    "# Split the dataset into training and testing sets\n",
    "X_train, X_test, y_train, y_test = train_test_split(X, y, test_size=0.2, random_state= 78)"
   ]
  },
  {
   "cell_type": "code",
   "execution_count": 53,
   "metadata": {},
   "outputs": [
    {
     "name": "stdout",
     "output_type": "stream",
     "text": [
      "<class 'numpy.ndarray'>\n",
      "<class 'numpy.ndarray'>\n",
      "float64\n",
      "float64\n"
     ]
    }
   ],
   "source": [
    "print(type(X_train))\n",
    "print(type(y_train))\n",
    "print(X_train.dtype)\n",
    "print(y_train.dtype)"
   ]
  },
  {
   "cell_type": "code",
   "execution_count": 54,
   "metadata": {},
   "outputs": [],
   "source": [
    "import numpy as np\n",
    "\n",
    "X_train = np.array(X_train, dtype=np.float32)\n",
    "y_train = np.array(y_train, dtype=np.float32)  # or np.int if it's classification with integer labels\n",
    "X_test = np.array(X_test, dtype=np.float32)\n",
    "y_test = np.array(y_test, dtype=np.float32)    # or np.int if it's classification with integer labels"
   ]
  },
  {
   "cell_type": "code",
   "execution_count": 55,
   "metadata": {},
   "outputs": [
    {
     "name": "stderr",
     "output_type": "stream",
     "text": [
      "c:\\Users\\chidu\\anaconda3\\lib\\site-packages\\keras\\src\\layers\\core\\dense.py:86: UserWarning: Do not pass an `input_shape`/`input_dim` argument to a layer. When using Sequential models, prefer using an `Input(shape)` object as the first layer in the model instead.\n",
      "  super().__init__(activity_regularizer=activity_regularizer, **kwargs)\n"
     ]
    }
   ],
   "source": [
    "# Define the model using TensorFlow and Keras\n",
    "model = tf.keras.Sequential([\n",
    "    tf.keras.layers.Dense(1, activation='sigmoid', input_shape=(8,))\n",
    "])"
   ]
  },
  {
   "cell_type": "code",
   "execution_count": 56,
   "metadata": {},
   "outputs": [],
   "source": [
    "# Compile the model\n",
    "model.compile(optimizer='adam',\n",
    "              loss='binary_crossentropy',\n",
    "              metrics=['accuracy'])"
   ]
  },
  {
   "cell_type": "code",
   "execution_count": 57,
   "metadata": {},
   "outputs": [
    {
     "name": "stdout",
     "output_type": "stream",
     "text": [
      "Epoch 1/50\n",
      "\u001b[1m1189/1189\u001b[0m \u001b[32m━━━━━━━━━━━━━━━━━━━━\u001b[0m\u001b[37m\u001b[0m \u001b[1m3s\u001b[0m 2ms/step - accuracy: 0.0000e+00 - loss: -2095.7056\n",
      "Epoch 2/50\n",
      "\u001b[1m1189/1189\u001b[0m \u001b[32m━━━━━━━━━━━━━━━━━━━━\u001b[0m\u001b[37m\u001b[0m \u001b[1m2s\u001b[0m 2ms/step - accuracy: 0.0000e+00 - loss: -6046.1318\n",
      "Epoch 3/50\n",
      "\u001b[1m1189/1189\u001b[0m \u001b[32m━━━━━━━━━━━━━━━━━━━━\u001b[0m\u001b[37m\u001b[0m \u001b[1m2s\u001b[0m 2ms/step - accuracy: 0.0000e+00 - loss: -9998.0205\n",
      "Epoch 4/50\n",
      "\u001b[1m1189/1189\u001b[0m \u001b[32m━━━━━━━━━━━━━━━━━━━━\u001b[0m\u001b[37m\u001b[0m \u001b[1m2s\u001b[0m 2ms/step - accuracy: 0.0000e+00 - loss: -13913.7021\n",
      "Epoch 5/50\n",
      "\u001b[1m1189/1189\u001b[0m \u001b[32m━━━━━━━━━━━━━━━━━━━━\u001b[0m\u001b[37m\u001b[0m \u001b[1m2s\u001b[0m 2ms/step - accuracy: 0.0000e+00 - loss: -17805.0391\n",
      "Epoch 6/50\n",
      "\u001b[1m1189/1189\u001b[0m \u001b[32m━━━━━━━━━━━━━━━━━━━━\u001b[0m\u001b[37m\u001b[0m \u001b[1m2s\u001b[0m 2ms/step - accuracy: 0.0000e+00 - loss: -21812.8066\n",
      "Epoch 7/50\n",
      "\u001b[1m1189/1189\u001b[0m \u001b[32m━━━━━━━━━━━━━━━━━━━━\u001b[0m\u001b[37m\u001b[0m \u001b[1m2s\u001b[0m 2ms/step - accuracy: 0.0000e+00 - loss: -25862.7656\n",
      "Epoch 8/50\n",
      "\u001b[1m1189/1189\u001b[0m \u001b[32m━━━━━━━━━━━━━━━━━━━━\u001b[0m\u001b[37m\u001b[0m \u001b[1m2s\u001b[0m 2ms/step - accuracy: 0.0000e+00 - loss: -29553.3535\n",
      "Epoch 9/50\n",
      "\u001b[1m1189/1189\u001b[0m \u001b[32m━━━━━━━━━━━━━━━━━━━━\u001b[0m\u001b[37m\u001b[0m \u001b[1m2s\u001b[0m 2ms/step - accuracy: 0.0000e+00 - loss: -33664.3242\n",
      "Epoch 10/50\n",
      "\u001b[1m1189/1189\u001b[0m \u001b[32m━━━━━━━━━━━━━━━━━━━━\u001b[0m\u001b[37m\u001b[0m \u001b[1m2s\u001b[0m 2ms/step - accuracy: 0.0000e+00 - loss: -37500.8359\n",
      "Epoch 11/50\n",
      "\u001b[1m1189/1189\u001b[0m \u001b[32m━━━━━━━━━━━━━━━━━━━━\u001b[0m\u001b[37m\u001b[0m \u001b[1m2s\u001b[0m 2ms/step - accuracy: 0.0000e+00 - loss: -41569.6562\n",
      "Epoch 12/50\n",
      "\u001b[1m1189/1189\u001b[0m \u001b[32m━━━━━━━━━━━━━━━━━━━━\u001b[0m\u001b[37m\u001b[0m \u001b[1m2s\u001b[0m 2ms/step - accuracy: 0.0000e+00 - loss: -45384.8594\n",
      "Epoch 13/50\n",
      "\u001b[1m1189/1189\u001b[0m \u001b[32m━━━━━━━━━━━━━━━━━━━━\u001b[0m\u001b[37m\u001b[0m \u001b[1m2s\u001b[0m 2ms/step - accuracy: 0.0000e+00 - loss: -49372.3359\n",
      "Epoch 14/50\n",
      "\u001b[1m1189/1189\u001b[0m \u001b[32m━━━━━━━━━━━━━━━━━━━━\u001b[0m\u001b[37m\u001b[0m \u001b[1m2s\u001b[0m 2ms/step - accuracy: 0.0000e+00 - loss: -53446.9883\n",
      "Epoch 15/50\n",
      "\u001b[1m1189/1189\u001b[0m \u001b[32m━━━━━━━━━━━━━━━━━━━━\u001b[0m\u001b[37m\u001b[0m \u001b[1m2s\u001b[0m 2ms/step - accuracy: 0.0000e+00 - loss: -57202.1602\n",
      "Epoch 16/50\n",
      "\u001b[1m1189/1189\u001b[0m \u001b[32m━━━━━━━━━━━━━━━━━━━━\u001b[0m\u001b[37m\u001b[0m \u001b[1m2s\u001b[0m 2ms/step - accuracy: 0.0000e+00 - loss: -61106.0547\n",
      "Epoch 17/50\n",
      "\u001b[1m1189/1189\u001b[0m \u001b[32m━━━━━━━━━━━━━━━━━━━━\u001b[0m\u001b[37m\u001b[0m \u001b[1m2s\u001b[0m 2ms/step - accuracy: 0.0000e+00 - loss: -65093.7148\n",
      "Epoch 18/50\n",
      "\u001b[1m1189/1189\u001b[0m \u001b[32m━━━━━━━━━━━━━━━━━━━━\u001b[0m\u001b[37m\u001b[0m \u001b[1m2s\u001b[0m 2ms/step - accuracy: 0.0000e+00 - loss: -68920.9297\n",
      "Epoch 19/50\n",
      "\u001b[1m1189/1189\u001b[0m \u001b[32m━━━━━━━━━━━━━━━━━━━━\u001b[0m\u001b[37m\u001b[0m \u001b[1m2s\u001b[0m 2ms/step - accuracy: 0.0000e+00 - loss: -72835.9141\n",
      "Epoch 20/50\n",
      "\u001b[1m1189/1189\u001b[0m \u001b[32m━━━━━━━━━━━━━━━━━━━━\u001b[0m\u001b[37m\u001b[0m \u001b[1m2s\u001b[0m 2ms/step - accuracy: 0.0000e+00 - loss: -76922.8984\n",
      "Epoch 21/50\n",
      "\u001b[1m1189/1189\u001b[0m \u001b[32m━━━━━━━━━━━━━━━━━━━━\u001b[0m\u001b[37m\u001b[0m \u001b[1m2s\u001b[0m 2ms/step - accuracy: 0.0000e+00 - loss: -80861.2422\n",
      "Epoch 22/50\n",
      "\u001b[1m1189/1189\u001b[0m \u001b[32m━━━━━━━━━━━━━━━━━━━━\u001b[0m\u001b[37m\u001b[0m \u001b[1m2s\u001b[0m 2ms/step - accuracy: 0.0000e+00 - loss: -84510.9141\n",
      "Epoch 23/50\n",
      "\u001b[1m1189/1189\u001b[0m \u001b[32m━━━━━━━━━━━━━━━━━━━━\u001b[0m\u001b[37m\u001b[0m \u001b[1m2s\u001b[0m 2ms/step - accuracy: 0.0000e+00 - loss: -88691.5859\n",
      "Epoch 24/50\n",
      "\u001b[1m1189/1189\u001b[0m \u001b[32m━━━━━━━━━━━━━━━━━━━━\u001b[0m\u001b[37m\u001b[0m \u001b[1m2s\u001b[0m 2ms/step - accuracy: 0.0000e+00 - loss: -92307.9062\n",
      "Epoch 25/50\n",
      "\u001b[1m1189/1189\u001b[0m \u001b[32m━━━━━━━━━━━━━━━━━━━━\u001b[0m\u001b[37m\u001b[0m \u001b[1m2s\u001b[0m 2ms/step - accuracy: 0.0000e+00 - loss: -97218.5938\n",
      "Epoch 26/50\n",
      "\u001b[1m1189/1189\u001b[0m \u001b[32m━━━━━━━━━━━━━━━━━━━━\u001b[0m\u001b[37m\u001b[0m \u001b[1m2s\u001b[0m 2ms/step - accuracy: 0.0000e+00 - loss: -100461.8125\n",
      "Epoch 27/50\n",
      "\u001b[1m1189/1189\u001b[0m \u001b[32m━━━━━━━━━━━━━━━━━━━━\u001b[0m\u001b[37m\u001b[0m \u001b[1m2s\u001b[0m 2ms/step - accuracy: 0.0000e+00 - loss: -104686.1406\n",
      "Epoch 28/50\n",
      "\u001b[1m1189/1189\u001b[0m \u001b[32m━━━━━━━━━━━━━━━━━━━━\u001b[0m\u001b[37m\u001b[0m \u001b[1m2s\u001b[0m 2ms/step - accuracy: 0.0000e+00 - loss: -108472.9219\n",
      "Epoch 29/50\n",
      "\u001b[1m1189/1189\u001b[0m \u001b[32m━━━━━━━━━━━━━━━━━━━━\u001b[0m\u001b[37m\u001b[0m \u001b[1m2s\u001b[0m 2ms/step - accuracy: 0.0000e+00 - loss: -112327.2891\n",
      "Epoch 30/50\n",
      "\u001b[1m1189/1189\u001b[0m \u001b[32m━━━━━━━━━━━━━━━━━━━━\u001b[0m\u001b[37m\u001b[0m \u001b[1m2s\u001b[0m 2ms/step - accuracy: 0.0000e+00 - loss: -116130.8125\n",
      "Epoch 31/50\n",
      "\u001b[1m1189/1189\u001b[0m \u001b[32m━━━━━━━━━━━━━━━━━━━━\u001b[0m\u001b[37m\u001b[0m \u001b[1m2s\u001b[0m 2ms/step - accuracy: 0.0000e+00 - loss: -120461.1719\n",
      "Epoch 32/50\n",
      "\u001b[1m1189/1189\u001b[0m \u001b[32m━━━━━━━━━━━━━━━━━━━━\u001b[0m\u001b[37m\u001b[0m \u001b[1m2s\u001b[0m 2ms/step - accuracy: 0.0000e+00 - loss: -124007.5547\n",
      "Epoch 33/50\n",
      "\u001b[1m1189/1189\u001b[0m \u001b[32m━━━━━━━━━━━━━━━━━━━━\u001b[0m\u001b[37m\u001b[0m \u001b[1m2s\u001b[0m 2ms/step - accuracy: 0.0000e+00 - loss: -127927.1641\n",
      "Epoch 34/50\n",
      "\u001b[1m1189/1189\u001b[0m \u001b[32m━━━━━━━━━━━━━━━━━━━━\u001b[0m\u001b[37m\u001b[0m \u001b[1m2s\u001b[0m 2ms/step - accuracy: 0.0000e+00 - loss: -132333.1406\n",
      "Epoch 35/50\n",
      "\u001b[1m1189/1189\u001b[0m \u001b[32m━━━━━━━━━━━━━━━━━━━━\u001b[0m\u001b[37m\u001b[0m \u001b[1m2s\u001b[0m 2ms/step - accuracy: 0.0000e+00 - loss: -135786.0469\n",
      "Epoch 36/50\n",
      "\u001b[1m1189/1189\u001b[0m \u001b[32m━━━━━━━━━━━━━━━━━━━━\u001b[0m\u001b[37m\u001b[0m \u001b[1m2s\u001b[0m 2ms/step - accuracy: 0.0000e+00 - loss: -139816.4062\n",
      "Epoch 37/50\n",
      "\u001b[1m1189/1189\u001b[0m \u001b[32m━━━━━━━━━━━━━━━━━━━━\u001b[0m\u001b[37m\u001b[0m \u001b[1m2s\u001b[0m 2ms/step - accuracy: 0.0000e+00 - loss: -144265.1562\n",
      "Epoch 38/50\n",
      "\u001b[1m1189/1189\u001b[0m \u001b[32m━━━━━━━━━━━━━━━━━━━━\u001b[0m\u001b[37m\u001b[0m \u001b[1m2s\u001b[0m 2ms/step - accuracy: 0.0000e+00 - loss: -147753.3438\n",
      "Epoch 39/50\n",
      "\u001b[1m1189/1189\u001b[0m \u001b[32m━━━━━━━━━━━━━━━━━━━━\u001b[0m\u001b[37m\u001b[0m \u001b[1m2s\u001b[0m 2ms/step - accuracy: 0.0000e+00 - loss: -151767.7188\n",
      "Epoch 40/50\n",
      "\u001b[1m1189/1189\u001b[0m \u001b[32m━━━━━━━━━━━━━━━━━━━━\u001b[0m\u001b[37m\u001b[0m \u001b[1m2s\u001b[0m 2ms/step - accuracy: 0.0000e+00 - loss: -155989.4844\n",
      "Epoch 41/50\n",
      "\u001b[1m1189/1189\u001b[0m \u001b[32m━━━━━━━━━━━━━━━━━━━━\u001b[0m\u001b[37m\u001b[0m \u001b[1m2s\u001b[0m 2ms/step - accuracy: 0.0000e+00 - loss: -159571.3281\n",
      "Epoch 42/50\n",
      "\u001b[1m1189/1189\u001b[0m \u001b[32m━━━━━━━━━━━━━━━━━━━━\u001b[0m\u001b[37m\u001b[0m \u001b[1m2s\u001b[0m 2ms/step - accuracy: 0.0000e+00 - loss: -163678.0312\n",
      "Epoch 43/50\n",
      "\u001b[1m1189/1189\u001b[0m \u001b[32m━━━━━━━━━━━━━━━━━━━━\u001b[0m\u001b[37m\u001b[0m \u001b[1m2s\u001b[0m 2ms/step - accuracy: 0.0000e+00 - loss: -167958.3906\n",
      "Epoch 44/50\n",
      "\u001b[1m1189/1189\u001b[0m \u001b[32m━━━━━━━━━━━━━━━━━━━━\u001b[0m\u001b[37m\u001b[0m \u001b[1m2s\u001b[0m 2ms/step - accuracy: 0.0000e+00 - loss: -170885.6094\n",
      "Epoch 45/50\n",
      "\u001b[1m1189/1189\u001b[0m \u001b[32m━━━━━━━━━━━━━━━━━━━━\u001b[0m\u001b[37m\u001b[0m \u001b[1m2s\u001b[0m 2ms/step - accuracy: 0.0000e+00 - loss: -175063.3594\n",
      "Epoch 46/50\n",
      "\u001b[1m1189/1189\u001b[0m \u001b[32m━━━━━━━━━━━━━━━━━━━━\u001b[0m\u001b[37m\u001b[0m \u001b[1m2s\u001b[0m 2ms/step - accuracy: 0.0000e+00 - loss: -180181.6875\n",
      "Epoch 47/50\n",
      "\u001b[1m1189/1189\u001b[0m \u001b[32m━━━━━━━━━━━━━━━━━━━━\u001b[0m\u001b[37m\u001b[0m \u001b[1m2s\u001b[0m 2ms/step - accuracy: 0.0000e+00 - loss: -182822.0938\n",
      "Epoch 48/50\n",
      "\u001b[1m1189/1189\u001b[0m \u001b[32m━━━━━━━━━━━━━━━━━━━━\u001b[0m\u001b[37m\u001b[0m \u001b[1m2s\u001b[0m 2ms/step - accuracy: 0.0000e+00 - loss: -187158.2188\n",
      "Epoch 49/50\n",
      "\u001b[1m1189/1189\u001b[0m \u001b[32m━━━━━━━━━━━━━━━━━━━━\u001b[0m\u001b[37m\u001b[0m \u001b[1m2s\u001b[0m 2ms/step - accuracy: 0.0000e+00 - loss: -191993.0938\n",
      "Epoch 50/50\n",
      "\u001b[1m1189/1189\u001b[0m \u001b[32m━━━━━━━━━━━━━━━━━━━━\u001b[0m\u001b[37m\u001b[0m \u001b[1m2s\u001b[0m 2ms/step - accuracy: 0.0000e+00 - loss: -194457.1406\n",
      "\u001b[1m93/93\u001b[0m \u001b[32m━━━━━━━━━━━━━━━━━━━━\u001b[0m\u001b[37m\u001b[0m \u001b[1m0s\u001b[0m 2ms/step - accuracy: 0.0000e+00 - loss: -198885.9688\n",
      "Accuracy: 0.0\n"
     ]
    }
   ],
   "source": [
    "# Train the model\n",
    "model.fit(X_train, y_train, epochs=50, batch_size=10, verbose=1)\n",
    "\n",
    "# Evaluate the model\n",
    "loss, accuracy = model.evaluate(X_test, y_test)\n",
    "print(\"Accuracy:\", accuracy)"
   ]
  },
  {
   "cell_type": "code",
   "execution_count": 58,
   "metadata": {},
   "outputs": [
    {
     "name": "stdout",
     "output_type": "stream",
     "text": [
      "\u001b[1m93/93\u001b[0m \u001b[32m━━━━━━━━━━━━━━━━━━━━\u001b[0m\u001b[37m\u001b[0m \u001b[1m0s\u001b[0m 2ms/step\n"
     ]
    }
   ],
   "source": [
    "# Make predictions on the test set\n",
    "y_pred = model.predict(X_test)\n",
    "y_pred = (y_pred > 0.5).astype(int)"
   ]
  }
 ],
 "metadata": {
  "kernelspec": {
   "display_name": "Python 3 (ipykernel)",
   "language": "python",
   "name": "python3"
  },
  "language_info": {
   "codemirror_mode": {
    "name": "ipython",
    "version": 3
   },
   "file_extension": ".py",
   "mimetype": "text/x-python",
   "name": "python",
   "nbconvert_exporter": "python",
   "pygments_lexer": "ipython3",
   "version": "3.9.18"
  }
 },
 "nbformat": 4,
 "nbformat_minor": 4
}
